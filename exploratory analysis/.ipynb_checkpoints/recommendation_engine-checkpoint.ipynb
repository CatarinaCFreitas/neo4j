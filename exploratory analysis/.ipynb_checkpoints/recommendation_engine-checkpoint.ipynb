{
 "cells": [
  {
   "cell_type": "code",
   "execution_count": null,
   "metadata": {},
   "outputs": [],
   "source": [
    "from py2neo import Graph\n",
    "import pandas as pd\n",
    "import numpy as np"
   ]
  },
  {
   "cell_type": "code",
   "execution_count": null,
   "metadata": {},
   "outputs": [],
   "source": [
    "pd.set_option('display.max_columns', None)"
   ]
  },
  {
   "cell_type": "markdown",
   "metadata": {},
   "source": [
    "## Connect to neo4j database"
   ]
  },
  {
   "cell_type": "code",
   "execution_count": null,
   "metadata": {},
   "outputs": [],
   "source": [
    "# Connect to local database 'Kaggle Movie Database' with data\n",
    "# extracted from https://www.kaggle.com/rounakbanik/the-movies-dataset\n",
    "\n",
    "graph = Graph(\"bolt://localhost:7687\", auth=(\"neo4j\", \"ilovemovies\"))"
   ]
  },
  {
   "cell_type": "markdown",
   "metadata": {},
   "source": [
    "# Recommendation engines\n",
    "\n",
    "Approaches based on guide http://guides.neo4j.com/sandbox/recommendations"
   ]
  },
  {
   "cell_type": "markdown",
   "metadata": {},
   "source": [
    "## Content based filtering based on movie genre, cast, crew, production co. and keywords\n",
    "\n",
    "Recommend items that are similar to those that a user rated highly previously.\n",
    "\n",
    "### Weighted sum of common traits between movies"
   ]
  },
  {
   "cell_type": "code",
   "execution_count": null,
   "metadata": {},
   "outputs": [],
   "source": [
    "def get_n_similar_movies_on_common_traits(movie_name, n):\n",
    "    \n",
    "    query = '''\n",
    "    \n",
    "    // find movies with common genres with previously watched movies (m)\n",
    "    \n",
    "    MATCH (m:Movie {name: $movie_name})-[:BELONGS_TO]->(g:Genre)<-[:BELONGS_TO]-(rec:Movie)\n",
    "    WITH m, rec, COUNT(*) AS genre_score\n",
    "    \n",
    "    // find movies with common actors with previously watched movies (m)\n",
    "    \n",
    "    OPTIONAL MATCH (m)<-[:ACTED_IN]-(a:Actor)-[:ACTED_IN]->(rec)\n",
    "    WITH m, rec, genre_score, COUNT(a) AS cast_score\n",
    "    \n",
    "    // find movies with common directors with previously watched movies (m)\n",
    "    \n",
    "    OPTIONAL MATCH (m)<-[:DIRECTED]-(d:Director)-[:DIRECTED]->(rec)\n",
    "    WITH m, rec, genre_score, cast_score, COUNT(d) AS dir_score\n",
    "    \n",
    "    // find movies with common writers with previously watched movies (m)\n",
    "    \n",
    "    OPTIONAL MATCH (m)<-[:WROTE]-(w:Writer)-[:WROTE]->(rec)\n",
    "    WITH m, rec, genre_score, cast_score, dir_score, COUNT(w) AS wtr_score\n",
    "    \n",
    "    // find movies with common producers with previously watched movies (m)\n",
    "    \n",
    "    OPTIONAL MATCH (m)<-[:PRODUCED]-(p:ProductionCompany)-[:PRODUCED]->(rec)\n",
    "    WITH m, rec, genre_score, cast_score, dir_score, wtr_score, COUNT(p) AS prod_score\n",
    "    \n",
    "    // find movies with common keywords with previously watched movies (m)\n",
    "    \n",
    "    OPTIONAL MATCH (m)<-[:DESCRIBES]-(k:Keyword)-[:DESCRIBES]->(rec)\n",
    "    WITH m, rec, genre_score, cast_score, dir_score, wtr_score, prod_score, COUNT(k) AS key_score \n",
    "    \n",
    "    // calculate similarity score\n",
    "\n",
    "    RETURN rec.name AS recommendation, $movie_name AS similar_to,\n",
    "    genre_score, cast_score, dir_score, wtr_score, prod_score, key_score,\n",
    "    (1*genre_score)+(2*cast_score)+(2*dir_score)+(2*wtr_score)+(1*prod_score)+(1*key_score) AS final_score\n",
    "    ORDER BY final_score DESC LIMIT $n\n",
    "    \n",
    "    '''\n",
    "        \n",
    "    similar_movies = graph.run(query, parameters = {'movie_name': movie_name, \n",
    "                                                    'n': n}).data()\n",
    "    \n",
    "    return pd.DataFrame(similar_movies)"
   ]
  },
  {
   "cell_type": "code",
   "execution_count": null,
   "metadata": {},
   "outputs": [],
   "source": [
    "def get_movie_recommendations_on_common_traits(user_id, top_n_movies, n_top_recommendations):\n",
    "\n",
    "    query = '''\n",
    "    \n",
    "    \n",
    "        // find the top positively rated movies (m) from user\n",
    "\n",
    "        MATCH (u:User {id: $user_id})-[r:RATED]->(m:Movie) WHERE r.rating >= 3\n",
    "\n",
    "        WITH u, m, r.rating AS r ORDER BY r DESC LIMIT $top_n_movies\n",
    "        \n",
    "        \n",
    "        // find other movies (rec) with common traits with the user favorite movies (m)\n",
    "\n",
    "        MATCH (m)-[:BELONGS_TO]->(g:Genre)<-[:BELONGS_TO]-(rec:Movie)\n",
    "        WHERE NOT EXISTS ((u)-[:RATED]->(rec)) AND m <> rec\n",
    "        WITH u, m, r, rec, COUNT(*) AS gs\n",
    "\n",
    "        OPTIONAL MATCH (m)<-[:ACTED_IN]-(a:Actor)-[:ACTED_IN]->(rec)\n",
    "        WITH u, m, r, rec, gs, COUNT(a) AS cs\n",
    "\n",
    "        OPTIONAL MATCH (m)<-[:DIRECTED]-(d:Director)-[:DIRECTED]->(rec)\n",
    "        WITH u, m, r, rec, gs, cs, COUNT(d) AS ds\n",
    "\n",
    "        OPTIONAL MATCH (m)<-[:WROTE]-(w:Writer)-[:WROTE]->(rec)\n",
    "        WITH u, m, r, rec, gs, cs, ds, COUNT(w) AS ws\n",
    "\n",
    "        OPTIONAL MATCH (m)<-[:PRODUCED]-(p:ProductionCompany)-[:PRODUCED]->(rec)\n",
    "        WITH u, m, r, rec, gs, cs, ds, ws, COUNT(p) AS ps\n",
    "\n",
    "        OPTIONAL MATCH (m)<-[:DESCRIBES]-(k:Keyword)-[:DESCRIBES]->(rec)\n",
    "        WITH u, m, r, rec, gs, cs, ds, ws, ps, COUNT(k) AS ks \n",
    "\n",
    "\n",
    "        // calculate score considering the rating of movie m and common traits with recommendation\n",
    "        \n",
    "        RETURN u.id AS user, \n",
    "        rec.name AS recommendation,\n",
    "        m.name AS similar_to, \n",
    "        r AS rating, \n",
    "        gs AS genre, cs AS cast, (ds + ws + ps) AS crew, ks as keywords,\n",
    "        (r)*((1*gs)+(2*cs)+(2*ds)+(2*ws)+(1*ps)+(1*ks)) AS score\n",
    "        ORDER BY score DESC LIMIT $n_top_recommendations\n",
    "\n",
    "    '''\n",
    "\n",
    "\n",
    "    r = graph.run(query, parameters = {'user_id': user_id,\n",
    "                                       'top_n_movies': top_n_movies,\n",
    "                                       'n_top_recommendations': n_top_recommendations}).data()\n",
    "\n",
    "    return pd.DataFrame(r)"
   ]
  },
  {
   "cell_type": "code",
   "execution_count": null,
   "metadata": {},
   "outputs": [],
   "source": [
    "# Find similar movies\n",
    "\n",
    "get_n_similar_movies_on_common_traits('Catch Me If You Can', n = 10)"
   ]
  },
  {
   "cell_type": "code",
   "execution_count": null,
   "metadata": {},
   "outputs": [],
   "source": [
    "# Recommend movies to user based on common traits with previous liked movies\n",
    "\n",
    "get_movie_recommendations_on_common_traits(user_id = 6, top_n_movies = 10, n_top_recommendations = 25)"
   ]
  },
  {
   "cell_type": "markdown",
   "metadata": {},
   "source": [
    "### Using jaccard index similarity metric\n",
    "\n",
    "The Jaccard index is a number between 0 and 1 that indicates how similar two sets are. The Jaccard index of two identical sets is 1. If two sets do not have a common element, then the Jaccard index is 0. The Jaccard is calculated by dividing the size of the intersection of two sets by the union of the two sets."
   ]
  },
  {
   "cell_type": "code",
   "execution_count": null,
   "metadata": {},
   "outputs": [],
   "source": [
    "def get_n_similar_movies_jaccard(movie_name, n):\n",
    "    \n",
    "    query = '''\n",
    "    \n",
    "    // find movies with common characteristics with previously watched movies (m)\n",
    "    \n",
    "    MATCH (m:Movie {name: $movie_name})-[:BELONGS_TO|:ACTED_IN|:DIRECTED|:WROTE|:PRODUCED|:DESCRIBES]-(n)-\n",
    "    [:BELONGS_TO|:ACTED_IN|:DIRECTED|:WROTE|:PRODUCED|:DESCRIBES]-(rec:Movie)\n",
    "    \n",
    "    WITH m, rec, COUNT(n) AS intersection, COLLECT(n.name) as i\n",
    "    \n",
    "    \n",
    "    // find all characteristics of movie m\n",
    "    \n",
    "    MATCH (m)-[:BELONGS_TO|:ACTED_IN|:DIRECTED|:WROTE|:PRODUCED|:DESCRIBES]-(mn)\n",
    "    WITH m, rec, intersection, i, COLLECT(mn.name) AS s1\n",
    "    \n",
    "    \n",
    "    // find all characteristics of movie to recommend\n",
    "    \n",
    "    MATCH (rec)-[:BELONGS_TO|:ACTED_IN|:DIRECTED|:WROTE|:PRODUCED|:DESCRIBES]-(rn)\n",
    "    WITH m, rec, intersection, i, s1, COLLECT(rn.name) AS s2\n",
    "    \n",
    "    \n",
    "    // calculate jaccard score\n",
    "    \n",
    "    WITH m, rec, intersection, i, s1+[x IN s2 WHERE NOT x IN s1] AS union, s1, s2\n",
    "    \n",
    "    RETURN rec.name AS recommendation, m.name AS similar_to, \n",
    "    intersection as nr_similarities, i AS similarities, \n",
    "    ((1.0*intersection)/SIZE(union)) AS jaccard_score ORDER BY jaccard_score DESC LIMIT $n\n",
    "    '''\n",
    "    \n",
    "    similar_movies = graph.run(query, parameters = {'movie_name': movie_name, \n",
    "                                                    'n': n}).data()\n",
    "    \n",
    "    return pd.DataFrame(similar_movies)\n"
   ]
  },
  {
   "cell_type": "code",
   "execution_count": null,
   "metadata": {},
   "outputs": [],
   "source": [
    "def get_movie_recommendations_jaccard_similarity(user_id, top_n_movies, n_top_recommendations):\n",
    "\n",
    "    query = '''\n",
    "    \n",
    "        // find the top positively rated movies from user\n",
    "\n",
    "        MATCH (u:User {id: $user_id})-[r:RATED]->(m:Movie) WHERE r.rating >= 3\n",
    "\n",
    "        WITH u, m, r.rating AS r ORDER BY r DESC LIMIT $top_n_movies\n",
    "        \n",
    "        \n",
    "        // find movies with common characteristics with watched movie m\n",
    "        \n",
    "        MATCH (m)-[:BELONGS_TO|:ACTED_IN|:DIRECTED|:WROTE|:PRODUCED|:DESCRIBES]-(n)-\n",
    "        [:BELONGS_TO|:ACTED_IN|:DIRECTED|:WROTE|:PRODUCED|:DESCRIBES]-(rec:Movie)\n",
    "\n",
    "        WITH u, m, r, rec, COUNT(n) AS intersection, COLLECT(n.name) as i\n",
    "        \n",
    "        \n",
    "        // find all characteristics of movie m\n",
    "\n",
    "        MATCH (m)-[:BELONGS_TO|:ACTED_IN|:DIRECTED|:WROTE|:PRODUCED|:DESCRIBES]-(mn)\n",
    "        WITH u, m, r, rec, intersection, i, COLLECT(mn.name) AS s1\n",
    "        \n",
    "        \n",
    "        // find all characteristics of movie to recommend\n",
    "\n",
    "        MATCH (rec)-[:BELONGS_TO|:ACTED_IN|:DIRECTED|:WROTE|:PRODUCED|:DESCRIBES]-(rn)\n",
    "        WITH u, m, r, rec, intersection, i, s1, COLLECT(rn.name) AS s2\n",
    "\n",
    "        \n",
    "        // calculate jaccard score and add weight of movie rating\n",
    "\n",
    "        WITH u, m, r, rec, intersection, i, s1+[x IN s2 WHERE NOT x IN s1] AS union, s1, s2\n",
    "\n",
    "        RETURN \n",
    "        u.id AS user,\n",
    "        rec.name AS recommendation, \n",
    "        m.name AS similar_to, \n",
    "        r AS rating,\n",
    "        intersection as nr_similarities,\n",
    "        i AS similarities, \n",
    "        r * ((1.0*intersection)/SIZE(union)) AS score\n",
    "        ORDER BY score DESC LIMIT $n_top_recommendations\n",
    "\n",
    "    '''\n",
    "\n",
    "\n",
    "    r = graph.run(query, parameters = {'user_id': user_id,\n",
    "                                       'top_n_movies': top_n_movies,\n",
    "                                       'n_top_recommendations': n_top_recommendations}).data()\n",
    "\n",
    "    return pd.DataFrame(r)"
   ]
  },
  {
   "cell_type": "code",
   "execution_count": null,
   "metadata": {},
   "outputs": [],
   "source": [
    "# Find similar movies with jaccard similarity\n",
    "\n",
    "get_n_similar_movies_jaccard('Notting Hill', 10)"
   ]
  },
  {
   "cell_type": "code",
   "execution_count": null,
   "metadata": {},
   "outputs": [],
   "source": [
    "get_movie_recommendations_jaccard_similarity(user_id = 2, top_n_movies = 10, n_top_recommendations = 25)"
   ]
  },
  {
   "cell_type": "markdown",
   "metadata": {},
   "source": [
    "## Collaborative filtering\n",
    "\n",
    "Find similar users in the network. Assuming that similar users have similar preferences, what are the movies those similar users like?"
   ]
  },
  {
   "cell_type": "markdown",
   "metadata": {},
   "source": [
    "### Using cosine similarity"
   ]
  },
  {
   "cell_type": "code",
   "execution_count": null,
   "metadata": {},
   "outputs": [],
   "source": [
    "# The cosine similarity of two users will tell us how similar two users' preferences for movies are. \n",
    "# Users with a high cosine similarity will have similar preferences.\n",
    "\n",
    "\n",
    "def get_movie_recommendations_user_similarity_cosine(user_id, n_top_similar_users, n_top_recommendations):\n",
    "    \n",
    "    query = '''\n",
    "    \n",
    "        MATCH (u1:User {id: $user_id})-[r1:RATED]->(m:Movie)<-[r2:RATED]-(u2:User)\n",
    "        WHERE u1 <> u2\n",
    "        \n",
    "        WITH u1, u2, COLLECT(r1.rating) AS u1ratings, COLLECT(r2.rating) AS u2ratings\n",
    "        WHERE size(u1ratings) > 10\n",
    "        \n",
    "        WITH u1, u2, gds.alpha.similarity.cosine(u1ratings, u2ratings) AS similarity \n",
    "        ORDER BY similarity LIMIT $n_top_similar_users\n",
    "\n",
    "        MATCH (u2)-[r3:RATED]->(rec:Movie)\n",
    "        WHERE NOT EXISTS ((u1)-[:RATED]->(rec:Movie))\n",
    "\n",
    "        RETURN rec.name as recommendation, SUM( similarity * r3.rating) AS score\n",
    "        ORDER BY score DESC LIMIT $n_top_recommendations\n",
    "    \n",
    "    '''\n",
    "    \n",
    "    \n",
    "    recommendations = graph.run(query, parameters = {'user_id': user_id,\n",
    "                                                   'n_top_similar_users': n_top_similar_users,\n",
    "                                                   'n_top_recommendations': n_top_recommendations\n",
    "                                                  }).data()\n",
    "    \n",
    "    return pd.DataFrame(recommendations)"
   ]
  },
  {
   "cell_type": "code",
   "execution_count": null,
   "metadata": {},
   "outputs": [],
   "source": [
    "# find the n most similar users to the user_id and the movies they liked which the user_id hasn't watched yet\n",
    "\n",
    "cos_recommendations = get_movie_recommendations_user_similarity_cosine(user_id = 100, \n",
    "                                                                       n_top_similar_users = 10, \n",
    "                                                                       n_top_recommendations = 15)\n",
    "cos_recommendations"
   ]
  },
  {
   "cell_type": "markdown",
   "metadata": {},
   "source": [
    "### Using Pearson similarity\n",
    "\n",
    "Pearson similarity is well-suited for product recommendations because it takes into account the fact that different users will have different mean ratings: on average some users will tend to give higher ratings than others. Since Pearson similarity considers differences about the mean, this metric will account for these discrepancies.\n",
    "\n"
   ]
  },
  {
   "cell_type": "code",
   "execution_count": null,
   "metadata": {},
   "outputs": [],
   "source": [
    "def get_movie_recommendations_user_similarity_pearson(user_id, n_top_similar_users, n_top_recommendations):\n",
    "    \n",
    "    query = '''\n",
    "    \n",
    "        MATCH (u1:User {id: $user_id})-[r1:RATED]->(m:Movie)\n",
    "        WITH u1, gds.alpha.similarity.asVector(m, r1.rating) as u1Vector\n",
    "        \n",
    "        MATCH (u2:User)-[r2:RATED]->(m:Movie) WHERE u1<>u2\n",
    "        \n",
    "        WITH u1, u2, u1Vector, gds.alpha.similarity.asVector(m, r2.rating) as u2Vector\n",
    "        WHERE size(apoc.coll.intersection([v in u1Vector | v.category], [v in u2Vector | v.category])) > 10\n",
    "        \n",
    "        WITH u1, u2,  gds.alpha.similarity.pearson(u1Vector, u2Vector, {vectorType: \"maps\"}) AS similarity\n",
    "        ORDER BY similarity DESC\n",
    "        LIMIT $n_top_similar_users\n",
    "\n",
    "        MATCH (u2)-[r:RATED]->(rec:Movie) WHERE NOT EXISTS( (u1)-[:RATED]->(rec) )\n",
    "        RETURN rec.name as recommendation, SUM( similarity * r.rating) AS score\n",
    "        ORDER BY score DESC LIMIT $n_top_recommendations\n",
    "\n",
    "    '''\n",
    "    \n",
    "    \n",
    "    recommendations = graph.run(query, parameters = {'user_id': user_id,\n",
    "                                                   'n_top_similar_users': n_top_similar_users,\n",
    "                                                   'n_top_recommendations': n_top_recommendations\n",
    "                                                  }).data()\n",
    "    return pd.DataFrame(recommendations)"
   ]
  },
  {
   "cell_type": "code",
   "execution_count": null,
   "metadata": {},
   "outputs": [],
   "source": [
    "pearson_recommendations = get_movie_recommendations_user_similarity_pearson(user_id = 10, \n",
    "                                                                            n_top_similar_users = 10,\n",
    "                                                                            n_top_recommendations = 25)\n",
    "\n",
    "pearson_recommendations"
   ]
  },
  {
   "cell_type": "code",
   "execution_count": null,
   "metadata": {},
   "outputs": [],
   "source": []
  }
 ],
 "metadata": {
  "kernelspec": {
   "display_name": "Python 3",
   "language": "python",
   "name": "python3"
  },
  "language_info": {
   "codemirror_mode": {
    "name": "ipython",
    "version": 3
   },
   "file_extension": ".py",
   "mimetype": "text/x-python",
   "name": "python",
   "nbconvert_exporter": "python",
   "pygments_lexer": "ipython3",
   "version": "3.8.6"
  }
 },
 "nbformat": 4,
 "nbformat_minor": 4
}
